{
 "cells": [
  {
   "cell_type": "markdown",
   "metadata": {},
   "source": [
    "# Dialogflow agent에 넣을 json 파일 생성하기"
   ]
  },
  {
   "cell_type": "markdown",
   "metadata": {},
   "source": [
    "## csv 파일 읽어오기"
   ]
  },
  {
   "cell_type": "code",
   "execution_count": 104,
   "metadata": {},
   "outputs": [],
   "source": [
    "# 필요 라이브러리 import\n",
    "import pandas as pd\n",
    "import json"
   ]
  },
  {
   "cell_type": "code",
   "execution_count": 105,
   "metadata": {},
   "outputs": [],
   "source": [
    "# csv 파일이 저장되어있는 경로 지정\n",
    "C_DATA_PATH = './chatbot_class-master/src/'\n",
    "\n",
    "# json 파일이 생성될 경로 지정\n",
    "OUT_PATH = './Dialogflow/exercise1/intents/'"
   ]
  },
  {
   "cell_type": "code",
   "execution_count": 106,
   "metadata": {},
   "outputs": [],
   "source": [
    "# csv 파일 내용을 DataFrame으로 생성\n",
    "df = pd.read_csv(C_DATA_PATH + 'ChatBotData_Short.csv', encoding='utf-8')"
   ]
  },
  {
   "cell_type": "code",
   "execution_count": 107,
   "metadata": {},
   "outputs": [
    {
     "data": {
      "text/html": [
       "<div>\n",
       "<style scoped>\n",
       "    .dataframe tbody tr th:only-of-type {\n",
       "        vertical-align: middle;\n",
       "    }\n",
       "\n",
       "    .dataframe tbody tr th {\n",
       "        vertical-align: top;\n",
       "    }\n",
       "\n",
       "    .dataframe thead th {\n",
       "        text-align: right;\n",
       "    }\n",
       "</style>\n",
       "<table border=\"1\" class=\"dataframe\">\n",
       "  <thead>\n",
       "    <tr style=\"text-align: right;\">\n",
       "      <th></th>\n",
       "      <th>Q</th>\n",
       "      <th>A</th>\n",
       "      <th>label</th>\n",
       "    </tr>\n",
       "  </thead>\n",
       "  <tbody>\n",
       "    <tr>\n",
       "      <th>0</th>\n",
       "      <td>가끔 궁금해</td>\n",
       "      <td>그 사람도 그럴 거예요.</td>\n",
       "      <td>0</td>\n",
       "    </tr>\n",
       "    <tr>\n",
       "      <th>1</th>\n",
       "      <td>가끔 뭐하는지 궁금해</td>\n",
       "      <td>그 사람도 그럴 거예요.</td>\n",
       "      <td>0</td>\n",
       "    </tr>\n",
       "    <tr>\n",
       "      <th>2</th>\n",
       "      <td>가끔은 혼자인게 좋다</td>\n",
       "      <td>혼자를 즐기세요.</td>\n",
       "      <td>0</td>\n",
       "    </tr>\n",
       "    <tr>\n",
       "      <th>3</th>\n",
       "      <td>가난한 자의 설움</td>\n",
       "      <td>돈은 다시 들어올 거예요.</td>\n",
       "      <td>0</td>\n",
       "    </tr>\n",
       "    <tr>\n",
       "      <th>4</th>\n",
       "      <td>가만 있어도 땀난다</td>\n",
       "      <td>땀을 식혀주세요.</td>\n",
       "      <td>0</td>\n",
       "    </tr>\n",
       "  </tbody>\n",
       "</table>\n",
       "</div>"
      ],
      "text/plain": [
       "             Q               A  label\n",
       "0       가끔 궁금해   그 사람도 그럴 거예요.      0\n",
       "1  가끔 뭐하는지 궁금해   그 사람도 그럴 거예요.      0\n",
       "2  가끔은 혼자인게 좋다       혼자를 즐기세요.      0\n",
       "3    가난한 자의 설움  돈은 다시 들어올 거예요.      0\n",
       "4   가만 있어도 땀난다       땀을 식혀주세요.      0"
      ]
     },
     "execution_count": 107,
     "metadata": {},
     "output_type": "execute_result"
    }
   ],
   "source": [
    "# DataFrame 5개 찍어보기\n",
    "df.head()"
   ]
  },
  {
   "cell_type": "code",
   "execution_count": 108,
   "metadata": {},
   "outputs": [
    {
     "data": {
      "text/plain": [
       "20"
      ]
     },
     "execution_count": 108,
     "metadata": {},
     "output_type": "execute_result"
    }
   ],
   "source": [
    "# Q - A 쌍이 20개 있음\n",
    "len(df)"
   ]
  },
  {
   "cell_type": "markdown",
   "metadata": {},
   "source": [
    "## 딕셔너리를 JSON 파일로 만들기"
   ]
  },
  {
   "cell_type": "code",
   "execution_count": 109,
   "metadata": {},
   "outputs": [],
   "source": [
    "def makeUserSayJson(usersay, name):\n",
    "    # 유저의 입력 유형을 JSON 파일로 만드는 함수\n",
    "    \n",
    "    # 딕셔너리를 []로 감싸줘야함 (리스트 형태)\n",
    "    # 안그러면 Dialogflow에 restore할 때 format 안맞는다는 에러 나옴\n",
    "    data = [{\n",
    "        \"id\": \"74e84230-79a8-4cbf-aa95-6a1f293eac7c\",\n",
    "        \"data\": [{\n",
    "                    \"text\": usersay,\n",
    "                    \"userDefined\": False\n",
    "                }],\n",
    "        \"isTemplate\": False,\n",
    "        \"count\": 0,\n",
    "        \"lang\": \"ko\",\n",
    "        \"updated\": 0\n",
    "    }]\n",
    "    \n",
    "    \n",
    "    # encoding='utf-8' 이것만 했을때는 여전히 문자가 깨졌는데,\n",
    "    # dump에 ensure_ascii 추가해줬더니 안깨지고 잘 됐음!!\n",
    "    # indent='\\t' 이건 한줄로 보면 불편해서 예쁘게 정렬해달라고 넣어준 것!\n",
    "    with open(f'{OUT_PATH}{name}_usersays_ko.json', 'w', encoding='UTF-8') as json_file:\n",
    "        json.dump(data, json_file, indent=\"\\t\", ensure_ascii=False)"
   ]
  },
  {
   "cell_type": "code",
   "execution_count": 110,
   "metadata": {},
   "outputs": [],
   "source": [
    "def makeResponse(response, name):\n",
    "    # 챗봇의 응답을 JSON 파일로 만드는 함수\n",
    "    # 이 함수 호출할 때 name이 중복되지 않도록 유의하기\n",
    "    data = {\n",
    "      \"id\": \"80ab34df-bcbb-4c0e-a9c6-2bda6341a7c8\",\n",
    "      \"name\": name,\n",
    "      \"auto\": True,\n",
    "      \"contexts\": [],\n",
    "      \"responses\": [\n",
    "        {\n",
    "          \"resetContexts\": False,\n",
    "          \"action\": \"\",\n",
    "          \"affectedContexts\": [],\n",
    "          \"parameters\": [],\n",
    "          \"messages\": [\n",
    "            {\n",
    "              \"type\": \"0\",\n",
    "              \"title\": \"\",\n",
    "              \"textToSpeech\": \"\",\n",
    "              \"lang\": \"ko\",\n",
    "              \"speech\": [\n",
    "                response\n",
    "              ],\n",
    "              \"condition\": \"\"\n",
    "            }\n",
    "          ],\n",
    "          \"speech\": []\n",
    "        }\n",
    "      ],\n",
    "      \"priority\": 500000,\n",
    "      \"webhookUsed\": True,\n",
    "      \"webhookForSlotFilling\": False,\n",
    "      \"fallbackIntent\": False,\n",
    "      \"events\": [],\n",
    "      \"conditionalResponses\": [],\n",
    "      \"condition\": \"\",\n",
    "      \"conditionalFollowupEvents\": []\n",
    "    }\n",
    "    \n",
    "    with open(f'{OUT_PATH}{name}.json', 'w', encoding='UTF-8') as json_file:\n",
    "        json.dump(data, json_file, indent=\"\\t\", ensure_ascii=False)"
   ]
  },
  {
   "cell_type": "code",
   "execution_count": 111,
   "metadata": {},
   "outputs": [],
   "source": [
    "# 각 함수 호출\n",
    "for i in range(len(df)):\n",
    "    fname = f'get-consulting_{i}'\n",
    "    \n",
    "    makeUserSayJson(df['Q'].values[i], fname)\n",
    "    makeResponse(df['A'].values[i], fname)"
   ]
  }
 ],
 "metadata": {
  "kernelspec": {
   "display_name": "Python 3",
   "language": "python",
   "name": "python3"
  },
  "language_info": {
   "codemirror_mode": {
    "name": "ipython",
    "version": 3
   },
   "file_extension": ".py",
   "mimetype": "text/x-python",
   "name": "python",
   "nbconvert_exporter": "python",
   "pygments_lexer": "ipython3",
   "version": "3.7.6"
  },
  "toc": {
   "base_numbering": 1,
   "nav_menu": {},
   "number_sections": false,
   "sideBar": true,
   "skip_h1_title": false,
   "title_cell": "Table of Contents",
   "title_sidebar": "Contents",
   "toc_cell": false,
   "toc_position": {},
   "toc_section_display": true,
   "toc_window_display": false
  }
 },
 "nbformat": 4,
 "nbformat_minor": 4
}
